{
 "cells": [
  {
   "cell_type": "markdown",
   "metadata": {},
   "source": [
    "\n",
    "# Coronavirus Dashboard\n",
    "__________________________________________\n",
    "A.K.A playing with data until I'm\n",
    "good enough to do something useful\n",
    "(Volume 3)\n",
    "\n",
    "By Dilan Moore\n",
    "17/03/2020\n",
    "__________________________________________\n",
    "\n",
    "So this is an interesting one. Yesterday I\n",
    "watched BoJo's press briefing, which was:\n",
    "\n",
    "- All non-essential travel in London banned\n",
    "- Don't go spoons for foreseeable future\n",
    "- London is ahead of the curve\n",
    "\n",
    "This begged the following questions:\n",
    "\n",
    "- Why aren't schools closed?\n",
    "- What is this curve?\n",
    "- At what point on the curve do schools \n",
    "  close?\n",
    "- What cool stuff can I do with the curve\n",
    "- This is literally a generation defining\n",
    "  statistical problem so this could be sick\n",
    "  \n",
    "So yeah. Let's go.\n",
    "\n",
    "    By Dilan Moore\n",
    "    \n",
    "N.B - Small update, my beautiful second-hand mac, after nine years of abuse finally gave up. The evening I started this project.\n",
    "\n",
    "Since then schools have also closed. I am re-opening the project on my new machine, date 22/03/2020.\n",
    "__________________________________________"
   ]
  },
  {
   "cell_type": "markdown",
   "metadata": {},
   "source": [
    "### Step 1 - Gentle Research\n",
    "\n",
    "So, I've started by watching lectures/videos\n",
    "on the application of statistics in disease\n",
    "prevention.\n",
    "\n",
    "For the practicalities:\n",
    "https://www.youtube.com/watch?v=MwDh3IEXYcU\n",
    "\n",
    "For the maths:\n",
    "https://www.youtube.com/watch?v=Kas0tIxDvrg"
   ]
  },
  {
   "cell_type": "markdown",
   "metadata": {},
   "source": [
    "I also need some live, updating coronavirus data for my graphs. Found below\n",
    "\n",
    "Government data:\n",
    "    https://www.gov.uk/government/publications/covid-19-track-coronavirus-cases\n",
    "    \n",
    "Daily Indicators\n",
    "    https://www.arcgis.com/sharing/rest/content/items/bc8ee90225644ef7a6f4dd1b13ea1d67/data\n",
    "    \n",
    "Daily Confirmed Cases\n",
    "    https://www.arcgis.com/sharing/rest/content/items/e5fd11150d274bebaaf8fe2a7a2bda11/data"
   ]
  },
  {
   "cell_type": "markdown",
   "metadata": {},
   "source": [
    "### Step 2 - Initial Exploration\n",
    "\n",
    "Now to explore and clean the available data"
   ]
  },
  {
   "cell_type": "code",
   "execution_count": 35,
   "metadata": {},
   "outputs": [],
   "source": [
    "import pandas as pd\n",
    "import matplotlib.pyplot as plt\n",
    "# I much prefer seaborn but have pyplot just in case\n",
    "import seaborn as sns\n",
    "import numpy as np"
   ]
  },
  {
   "cell_type": "code",
   "execution_count": 9,
   "metadata": {
    "scrolled": true
   },
   "outputs": [
    {
     "name": "stdout",
     "output_type": "stream",
     "text": [
      "<class 'pandas.core.frame.DataFrame'>\n",
      "RangeIndex: 1 entries, 0 to 0\n",
      "Data columns (total 8 columns):\n",
      " #   Column         Non-Null Count  Dtype         \n",
      "---  ------         --------------  -----         \n",
      " 0   DateVal        1 non-null      datetime64[ns]\n",
      " 1   TotalUKCases   1 non-null      int64         \n",
      " 2   NewUKCases     1 non-null      int64         \n",
      " 3   TotalUKDeaths  1 non-null      int64         \n",
      " 4   EnglandCases   1 non-null      int64         \n",
      " 5   ScotlandCases  1 non-null      int64         \n",
      " 6   WalesCases     1 non-null      int64         \n",
      " 7   NICases        1 non-null      int64         \n",
      "dtypes: datetime64[ns](1), int64(7)\n",
      "memory usage: 192.0 bytes\n"
     ]
    }
   ],
   "source": [
    "indicExcel = \"https://www.arcgis.com/sharing/rest/content/items/bc8ee90225644ef7a6f4dd1b13ea1d67/data\"\n",
    "indicators = pd.read_excel(indicExcel)\n",
    "\n",
    "indicators.info()"
   ]
  },
  {
   "cell_type": "code",
   "execution_count": 12,
   "metadata": {},
   "outputs": [
    {
     "name": "stdout",
     "output_type": "stream",
     "text": [
      "<class 'pandas.core.frame.DataFrame'>\n",
      "RangeIndex: 51 entries, 0 to 50\n",
      "Data columns (total 3 columns):\n",
      " #   Column        Non-Null Count  Dtype         \n",
      "---  ------        --------------  -----         \n",
      " 0   DateVal       51 non-null     datetime64[ns]\n",
      " 1   CMODateCount  51 non-null     int64         \n",
      " 2   CumCases      51 non-null     int64         \n",
      "dtypes: datetime64[ns](1), int64(2)\n",
      "memory usage: 1.3 KB\n"
     ]
    }
   ],
   "source": [
    "dailyExcel = \"https://www.arcgis.com/sharing/rest/content/items/e5fd11150d274bebaaf8fe2a7a2bda11/data\"\n",
    "dailyCases = pd.read_excel(dailyExcel)\n",
    "\n",
    "dailyCases.info()"
   ]
  },
  {
   "cell_type": "code",
   "execution_count": 10,
   "metadata": {},
   "outputs": [
    {
     "data": {
      "text/html": [
       "<div>\n",
       "<style scoped>\n",
       "    .dataframe tbody tr th:only-of-type {\n",
       "        vertical-align: middle;\n",
       "    }\n",
       "\n",
       "    .dataframe tbody tr th {\n",
       "        vertical-align: top;\n",
       "    }\n",
       "\n",
       "    .dataframe thead th {\n",
       "        text-align: right;\n",
       "    }\n",
       "</style>\n",
       "<table border=\"1\" class=\"dataframe\">\n",
       "  <thead>\n",
       "    <tr style=\"text-align: right;\">\n",
       "      <th></th>\n",
       "      <th>DateVal</th>\n",
       "      <th>TotalUKCases</th>\n",
       "      <th>NewUKCases</th>\n",
       "      <th>TotalUKDeaths</th>\n",
       "      <th>EnglandCases</th>\n",
       "      <th>ScotlandCases</th>\n",
       "      <th>WalesCases</th>\n",
       "      <th>NICases</th>\n",
       "    </tr>\n",
       "  </thead>\n",
       "  <tbody>\n",
       "    <tr>\n",
       "      <th>0</th>\n",
       "      <td>2020-03-21</td>\n",
       "      <td>5018</td>\n",
       "      <td>1035</td>\n",
       "      <td>233</td>\n",
       "      <td>4257</td>\n",
       "      <td>373</td>\n",
       "      <td>280</td>\n",
       "      <td>108</td>\n",
       "    </tr>\n",
       "  </tbody>\n",
       "</table>\n",
       "</div>"
      ],
      "text/plain": [
       "     DateVal  TotalUKCases  NewUKCases  TotalUKDeaths  EnglandCases  \\\n",
       "0 2020-03-21          5018        1035            233          4257   \n",
       "\n",
       "   ScotlandCases  WalesCases  NICases  \n",
       "0            373         280      108  "
      ]
     },
     "execution_count": 10,
     "metadata": {},
     "output_type": "execute_result"
    }
   ],
   "source": [
    "# So our daily cases look ok, and if they really do go back 51 days that is a good outcome.\n",
    "# However our indicators looks a bit bare.\n",
    "\n",
    "indicators.head()"
   ]
  },
  {
   "cell_type": "code",
   "execution_count": 13,
   "metadata": {},
   "outputs": [
    {
     "data": {
      "text/html": [
       "<div>\n",
       "<style scoped>\n",
       "    .dataframe tbody tr th:only-of-type {\n",
       "        vertical-align: middle;\n",
       "    }\n",
       "\n",
       "    .dataframe tbody tr th {\n",
       "        vertical-align: top;\n",
       "    }\n",
       "\n",
       "    .dataframe thead th {\n",
       "        text-align: right;\n",
       "    }\n",
       "</style>\n",
       "<table border=\"1\" class=\"dataframe\">\n",
       "  <thead>\n",
       "    <tr style=\"text-align: right;\">\n",
       "      <th></th>\n",
       "      <th>DateVal</th>\n",
       "      <th>CMODateCount</th>\n",
       "      <th>CumCases</th>\n",
       "    </tr>\n",
       "  </thead>\n",
       "  <tbody>\n",
       "    <tr>\n",
       "      <th>0</th>\n",
       "      <td>2020-01-31</td>\n",
       "      <td>2</td>\n",
       "      <td>2</td>\n",
       "    </tr>\n",
       "    <tr>\n",
       "      <th>1</th>\n",
       "      <td>2020-02-01</td>\n",
       "      <td>0</td>\n",
       "      <td>2</td>\n",
       "    </tr>\n",
       "    <tr>\n",
       "      <th>2</th>\n",
       "      <td>2020-02-02</td>\n",
       "      <td>0</td>\n",
       "      <td>2</td>\n",
       "    </tr>\n",
       "    <tr>\n",
       "      <th>3</th>\n",
       "      <td>2020-02-03</td>\n",
       "      <td>0</td>\n",
       "      <td>2</td>\n",
       "    </tr>\n",
       "    <tr>\n",
       "      <th>4</th>\n",
       "      <td>2020-02-04</td>\n",
       "      <td>0</td>\n",
       "      <td>2</td>\n",
       "    </tr>\n",
       "  </tbody>\n",
       "</table>\n",
       "</div>"
      ],
      "text/plain": [
       "     DateVal  CMODateCount  CumCases\n",
       "0 2020-01-31             2         2\n",
       "1 2020-02-01             0         2\n",
       "2 2020-02-02             0         2\n",
       "3 2020-02-03             0         2\n",
       "4 2020-02-04             0         2"
      ]
     },
     "execution_count": 13,
     "metadata": {},
     "output_type": "execute_result"
    }
   ],
   "source": [
    "dailyCases.head()"
   ]
  },
  {
   "cell_type": "code",
   "execution_count": 62,
   "metadata": {},
   "outputs": [
    {
     "data": {
      "image/png": "[encoded data removed]",
      "text/plain": [
       "<Figure size 432x288 with 1 Axes>"
      ]
     },
     "metadata": {
      "needs_background": "light"
     },
     "output_type": "display_data"
    }
   ],
   "source": [
    "# So indicators have been tracked since yesterday, so I can only hope that they will continue to do so.\n",
    "# Dailycases looks absoloutely mint though. Time to plot.\n",
    "# Also because I'm a big boy now I've decided to actually use functions\n",
    "\n",
    "def lineplot(x, y):\n",
    "    plot = sns.lineplot(x , y)\n",
    "    plot.set_xticklabels(x ,rotation = 45)\n",
    "    return;\n",
    "\n",
    "lineplot (dailyCases.DateVal, dailyCases.CumCases)\n"
   ]
  },
  {
   "cell_type": "code",
   "execution_count": 63,
   "metadata": {},
   "outputs": [
    {
     "data": {
      "image/png": "[encoded data removed]",
      "text/plain": [
       "<Figure size 432x288 with 1 Axes>"
      ]
     },
     "metadata": {
      "needs_background": "light"
     },
     "output_type": "display_data"
    }
   ],
   "source": [
    "lineplot (dailyCases.DateVal, dailyCases.CMODateCount)"
   ]
  },
  {
   "cell_type": "code",
   "execution_count": 64,
   "metadata": {},
   "outputs": [
    {
     "ename": "AttributeError",
     "evalue": "'AxesSubplot' object has no attribute 'polyfit'",
     "output_type": "error",
     "traceback": [
      "\u001b[1;31m---------------------------------------------------------------------------\u001b[0m",
      "\u001b[1;31mAttributeError\u001b[0m                            Traceback (most recent call last)",
      "\u001b[1;32m<ipython-input-64-4c6e1744abfa>\u001b[0m in \u001b[0;36m<module>\u001b[1;34m\u001b[0m\n\u001b[0;32m      3\u001b[0m \u001b[1;33m\u001b[0m\u001b[0m\n\u001b[0;32m      4\u001b[0m \u001b[0mlineplot\u001b[0m \u001b[1;33m(\u001b[0m\u001b[0mdailyCases\u001b[0m\u001b[1;33m.\u001b[0m\u001b[0mDateVal\u001b[0m\u001b[1;33m,\u001b[0m \u001b[0mdailyCases\u001b[0m\u001b[1;33m.\u001b[0m\u001b[0mCumCases\u001b[0m\u001b[1;33m)\u001b[0m\u001b[1;33m\u001b[0m\u001b[1;33m\u001b[0m\u001b[0m\n\u001b[1;32m----> 5\u001b[1;33m \u001b[0mplot\u001b[0m\u001b[1;33m.\u001b[0m\u001b[0mpolyfit\u001b[0m\u001b[1;33m(\u001b[0m\u001b[1;33m)\u001b[0m\u001b[1;33m\u001b[0m\u001b[1;33m\u001b[0m\u001b[0m\n\u001b[0m",
      "\u001b[1;31mAttributeError\u001b[0m: 'AxesSubplot' object has no attribute 'polyfit'"
     ]
    },
    {
     "data": {
      "image/png": "[encoded data removed]",
      "text/plain": [
       "<Figure size 432x288 with 1 Axes>"
      ]
     },
     "metadata": {
      "needs_background": "light"
     },
     "output_type": "display_data"
    }
   ],
   "source": [
    "# Again, these should update as Coronavirus spreads. But in the 3Brown 1Blue video they mentioned the R value and its importance.\n",
    "# Can we find it?\n",
    "\n",
    "import sklearn as sk"
   ]
  },
  {
   "cell_type": "code",
   "execution_count": null,
   "metadata": {},
   "outputs": [],
   "source": []
  }
 ],
 "metadata": {
  "kernelspec": {
   "display_name": "Python 3",
   "language": "python",
   "name": "python3"
  },
  "language_info": {
   "codemirror_mode": {
    "name": "ipython",
    "version": 3
   },
   "file_extension": ".py",
   "mimetype": "text/x-python",
   "name": "python",
   "nbconvert_exporter": "python",
   "pygments_lexer": "ipython3",
   "version": "3.7.6"
  }
 },
 "nbformat": 4,
 "nbformat_minor": 2
}
