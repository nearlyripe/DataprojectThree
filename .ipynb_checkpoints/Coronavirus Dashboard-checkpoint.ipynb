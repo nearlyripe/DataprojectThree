{
 "cells": [
  {
   "cell_type": "markdown",
   "metadata": {},
   "source": [
    "# Coronavirus Dashboard\n",
    "__________________________________________\n",
    "A.K.A playing with data until I'm\n",
    "good enough to do something useful\n",
    "(Volume 3)\n",
    "\n",
    "By Dilan Moore\n",
    "17/03/2020\n",
    "__________________________________________\n",
    "\n",
    "So this is an interesting one. Yesterday I\n",
    "watched BoJo's press briefing, which was:\n",
    "\n",
    "- All non-essential travel in London banned\n",
    "- Don't go spoons for foreseeable future\n",
    "- London is ahead of the curve\n",
    "\n",
    "This begged the following questions:\n",
    "\n",
    "- Why aren't schools closed?\n",
    "- What is this curve?\n",
    "- At what point on the curve do schools \n",
    "  close?\n",
    "- What cool stuff can I do with the curve\n",
    "- This is literally a generation defining\n",
    "  statistical problem so this could be sick\n",
    "  \n",
    "So yeah. Let's go.\n",
    "\n",
    "    By Dilan Moore\n",
    "__________________________________________"
   ]
  },
  {
   "cell_type": "code",
   "execution_count": null,
   "metadata": {},
   "outputs": [],
   "source": []
  }
 ],
 "metadata": {
  "kernelspec": {
   "display_name": "Python 3",
   "language": "python",
   "name": "python3"
  },
  "language_info": {
   "codemirror_mode": {
    "name": "ipython",
    "version": 3
   },
   "file_extension": ".py",
   "mimetype": "text/x-python",
   "name": "python",
   "nbconvert_exporter": "python",
   "pygments_lexer": "ipython3",
   "version": "3.7.4"
  }
 },
 "nbformat": 4,
 "nbformat_minor": 2
}
