{
 "cells": [
  {
   "cell_type": "markdown",
   "metadata": {},
   "source": [
    "# Coronavirus Dashboard\n",
    "__________________________________________\n",
    "A.K.A playing with data until I'm\n",
    "good enough to do something useful\n",
    "(Volume 3)\n",
    "\n",
    "By Dilan Moore\n",
    "17/03/2020\n",
    "__________________________________________\n",
    "\n",
    "So this is an interesting one. Yesterday I\n",
    "watched BoJo's press briefing, which was:\n",
    "\n",
    "- All non-essential travel in London banned\n",
    "- Don't go spoons for foreseeable future\n",
    "- London is ahead of the curve\n",
    "\n",
    "This begged the following questions:\n",
    "\n",
    "- Why aren't schools closed?\n",
    "- What is this curve?\n",
    "- At what point on the curve do schools \n",
    "  close?\n",
    "- What cool stuff can I do with the curve\n",
    "- This is literally a generation defining\n",
    "  statistical problem so this could be sick\n",
    "  \n",
    "So yeah. Let's go.\n",
    "\n",
    "    By Dilan Moore\n",
    "__________________________________________"
   ]
  },
  {
   "cell_type": "markdown",
   "metadata": {},
   "source": [
    "### Step 1 - Gentle Research\n",
    "\n",
    "So, I've started by watching lectures/videos\n",
    "on the application of statistics in disease\n",
    "prevention.\n",
    "\n",
    "For the practicalities:\n",
    "https://www.youtube.com/watch?v=MwDh3IEXYcU\n",
    "\n",
    "For the maths:\n",
    "https://www.youtube.com/watch?v=Kas0tIxDvrg\n",
    "\n",
    "I'm now "
   ]
  },
  {
   "cell_type": "code",
   "execution_count": null,
   "metadata": {},
   "outputs": [],
   "source": [
    "# Basically, I need some coronavirus data for my"
   ]
  }
 ],
 "metadata": {
  "kernelspec": {
   "display_name": "Python 3",
   "language": "python",
   "name": "python3"
  },
  "language_info": {
   "codemirror_mode": {
    "name": "ipython",
    "version": 3
   },
   "file_extension": ".py",
   "mimetype": "text/x-python",
   "name": "python",
   "nbconvert_exporter": "python",
   "pygments_lexer": "ipython3",
   "version": "3.7.4"
  }
 },
 "nbformat": 4,
 "nbformat_minor": 2
}
